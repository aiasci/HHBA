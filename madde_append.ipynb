{
 "cells": [
  {
   "cell_type": "code",
   "execution_count": 36,
   "metadata": {},
   "outputs": [],
   "source": [
    "## Gerekli Kütüphaneler\n",
    "import pandas as pd\n",
    "import numpy as np"
   ]
  },
  {
   "cell_type": "code",
   "execution_count": null,
   "metadata": {},
   "outputs": [],
   "source": [
    "# Creating key for every year\n",
    "key = [2015,2016,2017,2018,2019]\n",
    "# reading and saving all files while naming them with their specific year\n",
    "for i in key:\n",
    "    vars()['madde_'+str(i)] = pd.read_excel(f'https://github.com/aiasci/HHBA/blob/main/hbs_madde_tanim{i}.xlsx?raw=true')\n",
    "# renaming columns\n",
    "col_names = ['ana_grup', 'HBS_KOD5','grup_adı']\n",
    "for i in key:\n",
    "    vars()['madde_'+str(i)].columns = col_names\n",
    "# rearranging the HBS_KOD5 for tuketim_cd\n",
    "for i in key:\n",
    "    for j in range(0,len( vars()['madde_'+str(i)])):\n",
    "        vars()['madde_'+str(i)]['HBS_KOD5'][j] = vars()['madde_'+str(i)]['HBS_KOD5'][j].replace('.','')\n",
    "        vars()['madde_'+str(i)]['HBS_KOD5'][j] = int(vars()['madde_'+str(i)]['HBS_KOD5'][j])\n",
    "# addition of good types\n",
    "for i in key:\n",
    "    a= []\n",
    "    tur = []\n",
    "    for j in range(0,len(vars()['madde_'+str(i)])):\n",
    "        if vars()['madde_'+str(i)]['HBS_KOD5'][j] < 3000:\n",
    "            a = 'GIDA'\n",
    "            tur.append(a)\n",
    "        else:\n",
    "            a = 'Diger'\n",
    "            tur.append(a)\n",
    "    vars()['madde_'+str(i)]['tur'] = tur"
   ]
  },
  {
   "cell_type": "code",
   "execution_count": 108,
   "metadata": {},
   "outputs": [],
   "source": []
  },
  {
   "cell_type": "code",
   "execution_count": null,
   "metadata": {},
   "outputs": [],
   "source": [
    "##### All files contains same goods between 2015-2019. We had saved one of it as our source. For recently released data please check the good names !!!!\n",
    "madde = madde_2019\n",
    "madde.to_excel('madde.xlsx')"
   ]
  }
 ],
 "metadata": {
  "interpreter": {
   "hash": "2647ea34e536f865ab67ff9ddee7fd78773d956cec0cab53c79b32cd10da5d83"
  },
  "kernelspec": {
   "display_name": "Python 3.9.7 64-bit",
   "name": "python3"
  },
  "language_info": {
   "codemirror_mode": {
    "name": "ipython",
    "version": 3
   },
   "file_extension": ".py",
   "mimetype": "text/x-python",
   "name": "python",
   "nbconvert_exporter": "python",
   "pygments_lexer": "ipython3",
   "version": "3.9.7"
  },
  "orig_nbformat": 4
 },
 "nbformat": 4,
 "nbformat_minor": 2
}
