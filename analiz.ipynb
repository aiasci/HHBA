{
 "cells": [
  {
   "cell_type": "code",
   "execution_count": 8,
   "metadata": {},
   "outputs": [],
   "source": [
    "import pandas as pd\n",
    "import math\n",
    "import requests\n",
    "url = 'https://raw.githubusercontent.com/aiasci/HHBA/main/first_step/function.py'\n",
    "r = requests.get(url)\n",
    "import function"
   ]
  },
  {
   "cell_type": "code",
   "execution_count": 9,
   "metadata": {},
   "outputs": [],
   "source": [
    "#import data\n",
    "madde = pd.read_excel('https://github.com/aiasci/HHBA/blob/main/first_step/madde.xlsx?raw=true', index_col=False)\n",
    "DATA_raw = pd.read_excel('https://github.com/aiasci/HHBA/blob/main/first_step/DATA_raw.xlsx?raw=true', index_col = False)\n",
    "TÜKETİM_raw = pd.read_csv('https://github.com/aiasci/HHBA/blob/main/first_step/T%C3%9CKET%C4%B0M_raw.zip?raw=true', compression = 'zip',index_col = False)\n"
   ]
  },
  {
   "cell_type": "code",
   "execution_count": 15,
   "metadata": {},
   "outputs": [],
   "source": [
    "# Analysing the data\n",
    "liste = [2015,2016,2017,2018,2019]\n",
    "for i in liste:\n",
    "    vars()['data'+str(i)] = function.hhba_data(DATA_raw = DATA_raw, TÜKETİM_raw = TÜKETİM_raw, madde = madde, yıl = i)\n",
    "    vars()['data'+str(i)].insert(0, 'Yıl',i)\n",
    "# Merge Data (change the length of concat function with years)\n",
    "DATA = pd.concat([data2015, data2016, data2016, data2017, data2018, data2019])\n",
    "\n",
    "#filter out unncessarasy columns\n",
    "DATA = DATA[['Yıl', 'Gelir Grubu', 'GELIR_TOPLAM', 'tur', 'HBS_KOD5', 'grup_adı', 'DEGER_D', 'oran']]\n",
    "\n",
    "#rename columns\n",
    "DATA.columns = ['Yil', 'Gelir Grubu', 'Gelir', 'Urun Turu', 'Urun Kodu', 'Urun Adi', 'Harcama', 'Oran']\n",
    "\n",
    "#save\n",
    "DATA.to_csv('DATA.csv', index = False)\n"
   ]
  },
  {
   "cell_type": "code",
   "execution_count": 16,
   "metadata": {},
   "outputs": [
    {
     "data": {
      "text/plain": [
       "[0.013323170873237812,\n",
       " 0.02073729013286111,\n",
       " 0.027438197866245205,\n",
       " 0.021789736738915717,\n",
       " 0.02400857654069897]"
      ]
     },
     "execution_count": 16,
     "metadata": {},
     "output_type": "execute_result"
    }
   ],
   "source": [
    "#explore\n",
    "data = data2019\n",
    "sum(data[(data['Gelir Grubu'] == 1) & (data['HBS_KOD5'] == 1121)]['DEGER_D']) / sum(data[(data['Gelir Grubu'] == 1) & (data['tur'] == 'GIDA')]['DEGER_D'])\n",
    "\n",
    "data2016[(data2016['tur'] == 'GIDA') & (data2016['Gelir Grubu'] == 1)]['oran'].sum()\n",
    "\n",
    "yearly_food = []\n",
    "\n",
    "for df in [data2015, data2016, data2017, data2018, data2019]:\n",
    "    yearly_food.append(sum(df[(df['Gelir Grubu'] == 1) & (df['tur'] == 'GIDA') & (df['HBS_KOD5'] == 1121)]['oran']))\n",
    "\n",
    "yearly_food"
   ]
  }
 ],
 "metadata": {
  "interpreter": {
   "hash": "2647ea34e536f865ab67ff9ddee7fd78773d956cec0cab53c79b32cd10da5d83"
  },
  "kernelspec": {
   "display_name": "Python 3.9.7 64-bit",
   "name": "python3"
  },
  "language_info": {
   "codemirror_mode": {
    "name": "ipython",
    "version": 3
   },
   "file_extension": ".py",
   "mimetype": "text/x-python",
   "name": "python",
   "nbconvert_exporter": "python",
   "pygments_lexer": "ipython3",
   "version": "3.9.7"
  },
  "orig_nbformat": 4
 },
 "nbformat": 4,
 "nbformat_minor": 2
}
