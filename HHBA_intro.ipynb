{
 "cells": [
  {
   "cell_type": "code",
   "execution_count": 1,
   "metadata": {},
   "outputs": [],
   "source": [
    "## Gerekli Kütüphaneler\n",
    "import pandas as pd\n",
    "import numpy as np"
   ]
  },
  {
   "cell_type": "code",
   "execution_count": 28,
   "metadata": {},
   "outputs": [],
   "source": [
    "## Anket Verisi\n",
    "data  =  pd.read_excel(r'https://raw.githubusercontent.com/aiasci/HHBA/main/fert_cd_2019.excel')"
   ]
  },
  {
   "cell_type": "code",
   "execution_count": 3,
   "metadata": {},
   "outputs": [],
   "source": [
    "# TÜİK Ağırlıklandırması\n",
    "ağırlık = []\n",
    "for i in range(0, len(data)):\n",
    "    if data['FERTNO'][i] == 1:\n",
    "        ağırlık.append(data['FERTNO'][i])\n",
    "    if data['FERTNO'][i] != 1:\n",
    "        if data['YAS'][i] < 14:\n",
    "            ağırlık.append(0.3)\n",
    "    if data['FERTNO'][i] != 1:\n",
    "        if data['YAS'][i] >= 14:\n",
    "            ağırlık.append(0.5)\n",
    "# Veriye Ağırlıkların Eklenmesi\n",
    "data['ağırlık'] = ağırlık"
   ]
  },
  {
   "cell_type": "code",
   "execution_count": 4,
   "metadata": {},
   "outputs": [],
   "source": [
    "# Gelirlerin HAnelere göre Toplulaştırılması\n",
    "hanehalkı_gelirler = data[['BIRIMNO', 'GELIR_TOPLAM','ağırlık']].groupby('BIRIMNO').sum() \n",
    "hanehalkı_gelirler = hanehalkı_gelirler.reset_index()\n",
    "# Hane Başına Eşdeğer Fert Gelirlerinin Hesaplanması\n",
    "hanehalkı_gelirler['Ortalama'] = hanehalkı_gelirler['GELIR_TOPLAM']/hanehalkı_gelirler['ağırlık']\n",
    "# Eşdeğer Fert Gelirlerine göre Hanelerin Sıralanması \n",
    "hanehalkı_gelirler.sort_values('Ortalama', inplace=True)"
   ]
  },
  {
   "cell_type": "code",
   "execution_count": 5,
   "metadata": {},
   "outputs": [],
   "source": [
    "## Eğer Haneler Yalnızca Toplam Gelirlerine göre sıralanmak isteniyorsa Üstteki Blok yerine\n",
    "## Yalnızca bu kod çalıştırılabilir\n",
    "#hanehalkı_gelirler.sort_values('GELIR_TOPLAM', inplace=True)"
   ]
  },
  {
   "cell_type": "code",
   "execution_count": 6,
   "metadata": {},
   "outputs": [],
   "source": [
    "# İndex'in düzeltilmesi\n",
    "hanehalkı_gelirler =hanehalkı_gelirler.reset_index(drop=True)"
   ]
  },
  {
   "cell_type": "code",
   "execution_count": 7,
   "metadata": {},
   "outputs": [],
   "source": [
    "# TÜİK Metodolojisi ile %20'lik gelir gruplarının oluşturulması\n",
    "hh_1 = hanehalkı_gelirler[:2305].reset_index(drop=True)\n",
    "hh_1['Gelir Grubu'] = 1\n",
    "hh_2 = hanehalkı_gelirler[2305:4609].reset_index(drop=True)\n",
    "hh_2['Gelir Grubu'] = 2\n",
    "hh_3 = hanehalkı_gelirler[4609:6913].reset_index(drop=True)\n",
    "hh_3['Gelir Grubu'] = 3\n",
    "hh_4 = hanehalkı_gelirler[6913:9217].reset_index(drop=True)\n",
    "hh_4['Gelir Grubu'] = 4\n",
    "hh_5 = hanehalkı_gelirler[9217:11521].reset_index(drop=True)\n",
    "hh_5['Gelir Grubu'] = 5\n",
    "# Grupların Toplulaştırılması\n",
    "gruplar_main = pd.concat([hh_1, hh_2, hh_3, hh_4, hh_5])"
   ]
  },
  {
   "cell_type": "code",
   "execution_count": 8,
   "metadata": {},
   "outputs": [],
   "source": [
    "## Alt gelir gruplarını oluşturan hanelerin listelenmesi\n",
    "#a= pd.DataFrame()\n",
    "#for i in range(1,6):\n",
    "#    vars()['data_hh_'+str(i)] = pd.DataFrame()\n",
    "#    for j in range(0,len(vars()['hh_'+str(i)])):\n",
    "#        a= data[data['BIRIMNO'] == vars()['hh_'+str(i)]['BIRIMNO'][j]]\n",
    "#        vars()['data_hh_'+str(i)] = vars()['data_hh_'+str(i)].append(a)\n",
    "## Alt Gelir Gruplarının Kaydedilmesi\n",
    "#for i in range(1,6):\n",
    "#    vars()['data_hh_'+str(i)].to_excel(f'grup[{i}.xlsx',index=False) "
   ]
  },
  {
   "cell_type": "code",
   "execution_count": null,
   "metadata": {},
   "outputs": [],
   "source": [
    "# Hanelerin tüketim harcamaları verisi\n",
    "har = pd.read_csv(r'https://raw.githubusercontent.com/aiasci/HHBA/main/tuketim_cd_2019.csv')\n",
    "# Tüketim maddelerinin HS-5 Koduna göre isimlerini belirten dosya\n",
    "madde = pd.read_excel(r'https://github.com/aiasci/HHBA/blob/main/hbs_madde_tanim.xlsx?raw=true', sheet_name='pro')"
   ]
  },
  {
   "cell_type": "code",
   "execution_count": null,
   "metadata": {},
   "outputs": [],
   "source": [
    "# Tüketim Harcamaları ile Ürün İsimlerinin birleştirilmesi\n",
    "har_main = har.merge(madde, on = 'HBS_KOD5', how = 'inner')\n",
    "# Hanelerin Tüketimleri ile Hane kodlarının gelir gruplarıyla birlikte birleştirilmesi\n",
    "df1 = har_main.merge(gruplar_main, on = 'BIRIMNO', how = 'inner')\n",
    "# Her Gelir grubunun gelirlerinin toplanması\n",
    "gruplar_genel = gruplar_main[['GELIR_TOPLAM', 'Gelir Grubu']].groupby('Gelir Grubu').sum().reset_index()\n",
    "# Ana verinin gerekli ögelerle daraltılması\n",
    "df1 = df1[['BIRIMNO', 'HBS_KOD5', 'DEGER_D', 'tür', 'Grup adı', 'GELIR_TOPLAM', 'Gelir Grubu']]\n",
    "# Gelir gruplarına göre Ürün tüketimleri\n",
    "ürün_gelirgrubu = df1[['HBS_KOD5', 'DEGER_D', 'Gelir Grubu']].groupby(['HBS_KOD5', 'Gelir Grubu']).sum().reset_index()\n",
    "# Gelir gruplarına göre Ürün tüketimleriyle gelir gruplarının toplam gelirlerinin birleştirilmesi\n",
    "data_son = ürün_gelirgrubu.merge(gruplar_genel, on = 'Gelir Grubu', how = 'inner')\n",
    "# Ürün isimlerinin birleştirilmesi\n",
    "data_son = data_son.merge(madde[['HBS_KOD5', 'tür', 'Grup adı']], on = 'HBS_KOD5', how = 'inner')\n",
    "# Her bir ürünün gelir gruplarının sepetinde ne kadar yer tuttuğu\n",
    "data_son['oran'] = data_son['DEGER_D']/(data_son['GELIR_TOPLAM']/12)\n",
    "data_son"
   ]
  },
  {
   "cell_type": "code",
   "execution_count": null,
   "metadata": {},
   "outputs": [],
   "source": [
    "# Gelir Gruplarına Göre Toplam Gıda Tüketiminin Gelir Grubu Ortalama Gelirine Oranı\n",
    "#data_son[(data_son['Gelir Grubu'] == 1) & (data_son['tür'] == 'GIDA')]['oran'].sum()\n",
    "# Ürün bazlı gıda tüketiminin gelir grubu ortalama gelirine oranı (HBS_KOD5'e göre)\n",
    "#data_son[(data_son['Gelir Grubu'] == 1) & (data_son['tür'] == 'GIDA') & (data_son['HBS_KOD5'] == 1111)]['oran'].sum()\n",
    "# Ürün bazlı gıda tüketiminin gelir grubu ortalama gelirine oranı (Grup Adına göre)\n",
    "#data_son[(data_son['Gelir Grubu'] == 1) & (data_son['tür'] == 'GIDA') & (data_son['Grup adı'] == 'PİRİNÇ')]['oran'].sum()"
   ]
  }
 ],
 "metadata": {
  "interpreter": {
   "hash": "2647ea34e536f865ab67ff9ddee7fd78773d956cec0cab53c79b32cd10da5d83"
  },
  "kernelspec": {
   "display_name": "Python 3.9.7 64-bit",
   "name": "python3"
  },
  "language_info": {
   "codemirror_mode": {
    "name": "ipython",
    "version": 3
   },
   "file_extension": ".py",
   "mimetype": "text/x-python",
   "name": "python",
   "nbconvert_exporter": "python",
   "pygments_lexer": "ipython3",
   "version": "3.9.7"
  },
  "orig_nbformat": 4
 },
 "nbformat": 4,
 "nbformat_minor": 2
}
