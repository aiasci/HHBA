{
 "cells": [
  {
   "cell_type": "code",
   "execution_count": 1,
   "metadata": {},
   "outputs": [],
   "source": [
    "## Required Librarires\n",
    "import pandas as pd\n",
    "import numpy as np"
   ]
  },
  {
   "cell_type": "code",
   "execution_count": 13,
   "metadata": {},
   "outputs": [],
   "source": [
    "## 2019 Survey Data\n",
    "data  =  pd.read_excel(r'https://github.com/aiasci/HHBA/blob/main/raw/fert_cd/fert_cd_2019.xlsx?raw=true')"
   ]
  },
  {
   "cell_type": "code",
   "execution_count": 14,
   "metadata": {},
   "outputs": [],
   "source": [
    "# TURKSTAT's Suggested Weights\n",
    "ağırlık = []\n",
    "for i in range(0, len(data)):\n",
    "    if data['FERTNO'][i] == 1:\n",
    "        ağırlık.append(data['FERTNO'][i])\n",
    "    if data['FERTNO'][i] != 1:\n",
    "        if data['YAS'][i] < 14:\n",
    "            ağırlık.append(0.3)\n",
    "    if data['FERTNO'][i] != 1:\n",
    "        if data['YAS'][i] >= 14:\n",
    "            ağırlık.append(0.5)\n",
    "# Including Weights to the Survey Data\n",
    "data['ağırlık'] = ağırlık"
   ]
  },
  {
   "cell_type": "code",
   "execution_count": 15,
   "metadata": {},
   "outputs": [],
   "source": [
    "# Grouping Income by Households\n",
    "hanehalkı_gelirler = data[['BIRIMNO', 'GELIR_TOPLAM','ağırlık']].groupby('BIRIMNO').sum() \n",
    "hanehalkı_gelirler = hanehalkı_gelirler.reset_index()\n",
    "# Calculation of Equally Distributed Household Income According the Number of People That Constitutes The Household and Their Relative Weight \n",
    "hanehalkı_gelirler['Ortalama'] = hanehalkı_gelirler['GELIR_TOPLAM']/hanehalkı_gelirler['ağırlık']\n",
    "# Sorting Dataset by Equally Distributed Household Income**** \n",
    "hanehalkı_gelirler.sort_values('Ortalama', inplace=True)\n",
    "# **** TURKSTAT sorts households by their income which is a bit ambigious. Some household's contains more than 10 perosn that nearly half of them currently employed. \n",
    "# I think that TURKSTAT's methodology may require revision !!!"
   ]
  },
  {
   "cell_type": "code",
   "execution_count": 16,
   "metadata": {},
   "outputs": [],
   "source": [
    "## If you want to continue with TURKSTAT's methodology please ignore the codeblock above\n",
    "## Instead you may run the code below.\n",
    "#hanehalkı_gelirler.sort_values('GELIR_TOPLAM', inplace=True)"
   ]
  },
  {
   "cell_type": "code",
   "execution_count": 17,
   "metadata": {},
   "outputs": [],
   "source": [
    "# Re-indexing dataset\n",
    "hanehalkı_gelirler =hanehalkı_gelirler.reset_index(drop=True)"
   ]
  },
  {
   "cell_type": "code",
   "execution_count": 18,
   "metadata": {},
   "outputs": [],
   "source": [
    "# Creation of percentile Income Groups\n",
    "hh_1 = hanehalkı_gelirler[:2305].reset_index(drop=True)\n",
    "hh_1['Gelir Grubu'] = 1\n",
    "hh_2 = hanehalkı_gelirler[2305:4609].reset_index(drop=True)\n",
    "hh_2['Gelir Grubu'] = 2\n",
    "hh_3 = hanehalkı_gelirler[4609:6913].reset_index(drop=True)\n",
    "hh_3['Gelir Grubu'] = 3\n",
    "hh_4 = hanehalkı_gelirler[6913:9217].reset_index(drop=True)\n",
    "hh_4['Gelir Grubu'] = 4\n",
    "hh_5 = hanehalkı_gelirler[9217:11521].reset_index(drop=True)\n",
    "hh_5['Gelir Grubu'] = 5\n",
    "# Aggregation of Income Groups\n",
    "gruplar_main = pd.concat([hh_1, hh_2, hh_3, hh_4, hh_5])"
   ]
  },
  {
   "cell_type": "code",
   "execution_count": 19,
   "metadata": {},
   "outputs": [],
   "source": [
    "## Enlistation of Households That Are in The Percentile Groups for Future Examination of Dataset\n",
    "#a= pd.DataFrame()\n",
    "#for i in range(1,6):\n",
    "#    vars()['data_hh_'+str(i)] = pd.DataFrame()\n",
    "#    for j in range(0,len(vars()['hh_'+str(i)])):\n",
    "#        a= data[data['BIRIMNO'] == vars()['hh_'+str(i)]['BIRIMNO'][j]]\n",
    "#        vars()['data_hh_'+str(i)] = vars()['data_hh_'+str(i)].append(a)\n",
    "## Exporting Data to Excel\n",
    "#for i in range(1,6):\n",
    "#    vars()['data_hh_'+str(i)].to_excel(f'grup[{i}.xlsx',index=False) "
   ]
  },
  {
   "cell_type": "code",
   "execution_count": null,
   "metadata": {},
   "outputs": [],
   "source": [
    "# Household's Consumption Dataset\n",
    "har = pd.read_csv(r'https://github.com/aiasci/HHBA/blob/main/raw/tuketim_cd/tuketim_cd_2019.csv?raw=true')\n",
    "# Dataset of Consumption Bakset (Includes Names and HS5 codes)\n",
    "madde = pd.read_excel(r'https://github.com/aiasci/HHBA/blob/main/raw/madde_tanim/hbs_madde_tanim2019.xlsx?raw=true')\n",
    "# Renaming Column Names\n",
    "col_names = ['ana_grup', 'HBS_KOD5','Grup adı']\n",
    "madde.columns = col_names\n",
    "# Loop for Turning HBs5 code to the integers\n",
    "for j in range(0,len( madde)):\n",
    "        madde['HBS_KOD5'][j] = madde['HBS_KOD5'][j].replace('.','')\n",
    "        madde['HBS_KOD5'][j] = int(madde['HBS_KOD5'][j])\n",
    "# Grouping Goods\n",
    "a= []\n",
    "tür = []\n",
    "for j in range(0,len(madde)):\n",
    "    if madde['HBS_KOD5'][j] < 3000:\n",
    "        a = 'GIDA'\n",
    "        tür.append(a)\n",
    "    else:\n",
    "        a = 'Diger'\n",
    "        tür.append(a)\n",
    "madde['tür'] = tür"
   ]
  },
  {
   "cell_type": "code",
   "execution_count": null,
   "metadata": {},
   "outputs": [],
   "source": [
    "# Merging Consumption Dataset with Names of Goods by using HS5 codes\n",
    "har_main = har.merge(madde, on = 'HBS_KOD5', how = 'inner')\n",
    "# Merging Household's Consumption Dataset with Their Income Dataset by using Household Codes\n",
    "df1 = har_main.merge(gruplar_main, on = 'BIRIMNO', how = 'inner')\n",
    "# Aggregation of Household's Income considering their Income Group\n",
    "gruplar_genel = gruplar_main[['GELIR_TOPLAM', 'Gelir Grubu']].groupby('Gelir Grubu').sum().reset_index()\n",
    "# Narrowing Dataset According to Current Goal\n",
    "df1 = df1[['BIRIMNO', 'HBS_KOD5', 'DEGER_D', 'tür', 'Grup adı', 'GELIR_TOPLAM', 'Gelir Grubu']]\n",
    "# Aggregation of Household's Consumption by Goods considering Income Groups\n",
    "ürün_gelirgrubu = df1[['HBS_KOD5', 'DEGER_D', 'Gelir Grubu']].groupby(['HBS_KOD5', 'Gelir Grubu']).sum().reset_index()\n",
    "# Merging Aggregated Income and Consumption Datasets by using Income Groups\n",
    "data_son = ürün_gelirgrubu.merge(gruplar_genel, on = 'Gelir Grubu', how = 'inner')\n",
    "# Merging Names of the Goods\n",
    "data_son = data_son.merge(madde[['HBS_KOD5', 'tür', 'Grup adı']], on = 'HBS_KOD5', how = 'inner')\n",
    "# Calculation of How Much Each Income Groups Spend on Each Product\n",
    "data_son['oran'] = data_son['DEGER_D']/(data_son['GELIR_TOPLAM']/12)"
   ]
  },
  {
   "cell_type": "code",
   "execution_count": null,
   "metadata": {},
   "outputs": [],
   "source": [
    "# Expenditure for Food According to the Income Groups\n",
    "#data_son[(data_son['Gelir Grubu'] == 1) & (data_son['tür'] == 'GIDA')]['oran'].sum()\n",
    "# Expenditure of a Certain Good to the Income Groups (By Using HB5 Code) \n",
    "#data_son[(data_son['Gelir Grubu'] == 1) & (data_son['tür'] == 'GIDA') & (data_son['HBS_KOD5'] == 1111)]['oran'].sum()\n",
    "# Expenditure of a Certain Good to the Income Groups (By Using Name of the Product) \n",
    "#data_son[(data_son['Gelir Grubu'] == 1) & (data_son['tür'] == 'GIDA') & (data_son['Grup adı'] == 'PİRİNÇ')]['oran'].sum()"
   ]
  },
  {
   "cell_type": "code",
   "execution_count": null,
   "metadata": {},
   "outputs": [],
   "source": [
    "# Exporting results to the Excel\n",
    "data_son.to_excel('data_son.xlsx', index=False)"
   ]
  }
 ],
 "metadata": {
  "interpreter": {
   "hash": "2647ea34e536f865ab67ff9ddee7fd78773d956cec0cab53c79b32cd10da5d83"
  },
  "kernelspec": {
   "display_name": "Python 3.9.7 64-bit",
   "name": "python3"
  },
  "language_info": {
   "codemirror_mode": {
    "name": "ipython",
    "version": 3
   },
   "file_extension": ".py",
   "mimetype": "text/x-python",
   "name": "python",
   "nbconvert_exporter": "python",
   "pygments_lexer": "ipython3",
   "version": "3.9.7"
  },
  "orig_nbformat": 4
 },
 "nbformat": 4,
 "nbformat_minor": 2
}
