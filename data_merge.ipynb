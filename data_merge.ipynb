{
 "cells": [
  {
   "cell_type": "code",
   "execution_count": 2,
   "metadata": {},
   "outputs": [],
   "source": [
    "# Required Library\n",
    "import pandas as pd"
   ]
  },
  {
   "cell_type": "code",
   "execution_count": null,
   "metadata": {},
   "outputs": [],
   "source": [
    "# Aggregation of Household's Income\n",
    "# Creating key for every year\n",
    "key = [2015,2016,2017,2018,2019]\n",
    "# Creating DataFrame for Every Year\n",
    "for i in key:\n",
    "    vars()['df'+str(i)] = pd.read_excel(f'https://github.com/aiasci/HHBA/blob/main/raw/fert_cd/fert_cd_{i}.xlsx?raw=true', index_col = False)\n",
    "    vars()['df'+str(i)].insert(0,'Yıl',i)\n",
    "# Appending All Datasets\n",
    "DATA_raw = pd.concat([df2015, df2016, df2017, df2018, df2019])\n",
    "# Exporting it to the Excel\n",
    "#DATA_raw.to_excel('DATA_raw.xlsx', index = False)"
   ]
  },
  {
   "cell_type": "code",
   "execution_count": null,
   "metadata": {},
   "outputs": [],
   "source": [
    "# Aggregation of Household's Consumption\n",
    "# Creating DataFrame for Every Year\n",
    "for i in key:\n",
    "    if i == 2017 or i == 2018:\n",
    "        vars()['tuketim'+str(i)] = pd.read_csv(f'https://github.com/aiasci/HHBA/blob/main/raw/tuketim_cd/tuketim_cd_{i}.csv?raw=true', sep = ';', index_col = False)\n",
    "        vars()['tuketim'+str(i)].insert(0,'Yıl',i)   \n",
    "    else:\n",
    "        vars()['tuketim'+str(i)] = pd.read_csv(f'https://github.com/aiasci/HHBA/blob/main/raw/tuketim_cd/tuketim_cd_{i}.csv?raw=true', index_col = False)\n",
    "        vars()['tuketim'+str(i)].insert(0,'Yıl',i)\n",
    "\n",
    "\n",
    "Tuketim_raw = pd.concat([tuketim2015, tuketim2016, tuketim2017, tuketim2018, tuketim2019])\n",
    "# Exporting it to the Excel\n",
    "#Tuketim_raw.to_csv('TÜKETİM_raw.csv', index = False)"
   ]
  }
 ],
 "metadata": {
  "interpreter": {
   "hash": "2647ea34e536f865ab67ff9ddee7fd78773d956cec0cab53c79b32cd10da5d83"
  },
  "kernelspec": {
   "display_name": "Python 3.9.7 64-bit",
   "name": "python3"
  },
  "language_info": {
   "codemirror_mode": {
    "name": "ipython",
    "version": 3
   },
   "file_extension": ".py",
   "mimetype": "text/x-python",
   "name": "python",
   "nbconvert_exporter": "python",
   "pygments_lexer": "ipython3",
   "version": "3.9.7"
  },
  "orig_nbformat": 4
 },
 "nbformat": 4,
 "nbformat_minor": 2
}
