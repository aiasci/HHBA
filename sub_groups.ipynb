{
 "cells": [
  {
   "cell_type": "code",
   "execution_count": 16,
   "metadata": {},
   "outputs": [],
   "source": [
    "import pandas as pd\n",
    "import math"
   ]
  },
  {
   "cell_type": "code",
   "execution_count": 14,
   "metadata": {},
   "outputs": [],
   "source": [
    "# import the data sets (aprox. 90 sec)\n",
    "madde = pd.read_excel('https://github.com/aiasci/HHBA/blob/main/first_step/madde.xlsx?raw=true', index_col=False)\n",
    "DATA_raw = pd.read_excel('https://github.com/aiasci/HHBA/blob/main/first_step/DATA_raw.xlsx?raw=true', index_col = False)\n",
    "TÜKETİM_raw = pd.read_csv('https://github.com/aiasci/HHBA/blob/main/first_step/T%C3%9CKET%C4%B0M_raw.zip?raw=true', compression = 'zip',index_col = False)"
   ]
  },
  {
   "cell_type": "code",
   "execution_count": 22,
   "metadata": {},
   "outputs": [
    {
     "name": "stderr",
     "output_type": "stream",
     "text": [
      "C:\\Users\\User\\AppData\\Local\\Temp/ipykernel_4180/2553143296.py:23: SettingWithCopyWarning: \n",
      "A value is trying to be set on a copy of a slice from a DataFrame.\n",
      "Try using .loc[row_indexer,col_indexer] = value instead\n",
      "\n",
      "See the caveats in the documentation: https://pandas.pydata.org/pandas-docs/stable/user_guide/indexing.html#returning-a-view-versus-a-copy\n",
      "  data['ağırlık'] = ağırlık\n",
      "C:\\Users\\User\\AppData\\Local\\Temp/ipykernel_4180/2553143296.py:25: SettingWithCopyWarning: \n",
      "A value is trying to be set on a copy of a slice from a DataFrame.\n",
      "Try using .loc[row_indexer,col_indexer] = value instead\n",
      "\n",
      "See the caveats in the documentation: https://pandas.pydata.org/pandas-docs/stable/user_guide/indexing.html#returning-a-view-versus-a-copy\n",
      "  data['GELIR_TOPLAM'] = data['GELIR_TOPLAM'].fillna(0)\n"
     ]
    }
   ],
   "source": [
    "## creating subgroup files\n",
    "liste = [2015,2016,2017,2018,2019]\n",
    "for k in liste:   \n",
    "    DATA_raw = DATA_raw[DATA_raw['BIRIMNO'] != 1803131]\n",
    "    DATA_raw['GELIR_TOPLAM'] = pd.to_numeric(DATA_raw['GELIR_TOPLAM'], downcast=\"float\")\n",
    "\n",
    "    data = DATA_raw[DATA_raw['Yıl'] == k]\n",
    "    data.reset_index(drop=True, inplace=True)\n",
    "    har = TÜKETİM_raw[TÜKETİM_raw['Yıl'] == k]\n",
    "\n",
    "    # TÜİK Ağırlıklandırması\n",
    "    ağırlık = []\n",
    "    for i in range(0, len(data)):\n",
    "        if data['FERTNO'][i] == 1:\n",
    "            ağırlık.append(data['FERTNO'][i])\n",
    "        if data['FERTNO'][i] != 1:\n",
    "            if data['YAS'][i] < 14:\n",
    "                ağırlık.append(0.3)\n",
    "        if data['FERTNO'][i] != 1:\n",
    "            if data['YAS'][i] >= 14:\n",
    "                ağırlık.append(0.5)\n",
    "    # Veriye Ağırlıkların Eklenmesi\n",
    "    data['ağırlık'] = ağırlık\n",
    "\n",
    "    data['GELIR_TOPLAM'] = data['GELIR_TOPLAM'].fillna(0)\n",
    "\n",
    "\n",
    "    # Gelirlerin HAnelere göre Toplulaştırılması\n",
    "    hanehalkı_gelirler = data[['BIRIMNO', 'GELIR_TOPLAM','ağırlık']].groupby('BIRIMNO').sum() \n",
    "    hanehalkı_gelirler = hanehalkı_gelirler.reset_index()\n",
    "    # Hane Başına Eşdeğer Fert Gelirlerinin Hesaplanması\n",
    "    hanehalkı_gelirler['Ortalama'] = hanehalkı_gelirler['GELIR_TOPLAM']/hanehalkı_gelirler['ağırlık']\n",
    "    # Eşdeğer Fert Gelirlerine göre Hanelerin Sıralanması \n",
    "    hanehalkı_gelirler.sort_values('Ortalama', inplace=True)\n",
    "\n",
    "    # İndex'in düzeltilmesi\n",
    "    hanehalkı_gelirler =hanehalkı_gelirler.reset_index(drop=True)\n",
    "\n",
    "    # TÜİK Metodolojisi ile %20'lik gelir gruplarının oluşturulması\n",
    "    hh_1 = hanehalkı_gelirler[:math.trunc(len(hanehalkı_gelirler)/5)].reset_index(drop=True)\n",
    "    hh_1['Gelir Grubu'] = 1\n",
    "    hh_2 = hanehalkı_gelirler[math.trunc(len(hanehalkı_gelirler)/5):math.trunc(len(hanehalkı_gelirler)/5)*2].reset_index(drop=True)\n",
    "    hh_2['Gelir Grubu'] = 2\n",
    "    hh_3 = hanehalkı_gelirler[math.trunc(len(hanehalkı_gelirler)/5)*2:math.trunc(len(hanehalkı_gelirler)/5)*3].reset_index(drop=True)\n",
    "    hh_3['Gelir Grubu'] = 3\n",
    "    hh_4 = hanehalkı_gelirler[math.trunc(len(hanehalkı_gelirler)/5)*3:math.trunc(len(hanehalkı_gelirler)/5)*4].reset_index(drop=True)\n",
    "    hh_4['Gelir Grubu'] = 4\n",
    "    hh_5 = hanehalkı_gelirler[math.trunc(len(hanehalkı_gelirler)/5)*4:].reset_index(drop=True)\n",
    "    hh_5['Gelir Grubu'] = 5\n",
    "    # Grupların Toplulaştırılması\n",
    "    gruplar_main = pd.concat([hh_1, hh_2, hh_3, hh_4, hh_5])\n",
    "\n",
    "    ##Alt gelir gruplarını oluşturan hanelerin listelenmesi\n",
    "    a= pd.DataFrame()\n",
    "    for i in range(1,6):\n",
    "        vars()['data_hh_'+str(i)+'_'+str(k)] = pd.DataFrame()\n",
    "        for j in range(0,len(vars()['hh_'+str(i)])):\n",
    "            a= data[data['BIRIMNO'] == vars()['hh_'+str(i)]['BIRIMNO'][j]]\n",
    "            vars()['data_hh_'+str(i)+'_'+str(k)] = vars()['data_hh_'+str(i)+'_'+str(k)].append(a)\n",
    "    ## Alt Gelir Gruplarının Kaydedilmesi\n",
    "    for i in range(1,6):\n",
    "        vars()['data_hh_'+str(i)+'_'+str(k)].to_excel(f'grup{i}_{k}.xlsx',index=False)"
   ]
  }
 ],
 "metadata": {
  "interpreter": {
   "hash": "2647ea34e536f865ab67ff9ddee7fd78773d956cec0cab53c79b32cd10da5d83"
  },
  "kernelspec": {
   "display_name": "Python 3.9.7 64-bit",
   "name": "python3"
  },
  "language_info": {
   "codemirror_mode": {
    "name": "ipython",
    "version": 3
   },
   "file_extension": ".py",
   "mimetype": "text/x-python",
   "name": "python",
   "nbconvert_exporter": "python",
   "pygments_lexer": "ipython3",
   "version": "3.9.7"
  },
  "orig_nbformat": 4
 },
 "nbformat": 4,
 "nbformat_minor": 2
}
